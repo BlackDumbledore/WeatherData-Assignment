{
 "cells": [
  {
   "cell_type": "code",
   "execution_count": 1,
   "id": "646671b5-6ccd-440b-86f4-65008a5f178c",
   "metadata": {},
   "outputs": [],
   "source": [
    "import pandas as Pandas"
   ]
  },
  {
   "cell_type": "code",
   "execution_count": 2,
   "id": "7f19b79f-6ed2-42fa-beba-ea9a8af692d2",
   "metadata": {},
   "outputs": [
    {
     "name": "stdout",
     "output_type": "stream",
     "text": [
      "Name: pandas\n",
      "Version: 2.1.4\n",
      "Summary: Powerful data structures for data analysis, time series, and statistics\n",
      "Home-page: https://pandas.pydata.org\n",
      "Author: \n",
      "Author-email: The Pandas Development Team <pandas-dev@python.org>\n",
      "License: BSD 3-Clause License\n",
      "        \n",
      "        Copyright (c) 2008-2011, AQR Capital Management, LLC, Lambda Foundry, Inc. and PyData Development Team\n",
      "        All rights reserved.\n",
      "        \n",
      "        Copyright (c) 2011-2023, Open source contributors.\n",
      "        \n",
      "        Redistribution and use in source and binary forms, with or without\n",
      "        modification, are permitted provided that the following conditions are met:\n",
      "        \n",
      "        * Redistributions of source code must retain the above copyright notice, this\n",
      "          list of conditions and the following disclaimer.\n",
      "        \n",
      "        * Redistributions in binary form must reproduce the above copyright notice,\n",
      "          this list of conditions and the following disclaimer in the documentation\n",
      "          and/or other materials provided with the distribution.\n",
      "        \n",
      "        * Neither the name of the copyright holder nor the names of its\n",
      "          contributors may be used to endorse or promote products derived from\n",
      "          this software without specific prior written permission.\n",
      "        \n",
      "        THIS SOFTWARE IS PROVIDED BY THE COPYRIGHT HOLDERS AND CONTRIBUTORS \"AS IS\"\n",
      "        AND ANY EXPRESS OR IMPLIED WARRANTIES, INCLUDING, BUT NOT LIMITED TO, THE\n",
      "        IMPLIED WARRANTIES OF MERCHANTABILITY AND FITNESS FOR A PARTICULAR PURPOSE ARE\n",
      "        DISCLAIMED. IN NO EVENT SHALL THE COPYRIGHT HOLDER OR CONTRIBUTORS BE LIABLE\n",
      "        FOR ANY DIRECT, INDIRECT, INCIDENTAL, SPECIAL, EXEMPLARY, OR CONSEQUENTIAL\n",
      "        DAMAGES (INCLUDING, BUT NOT LIMITED TO, PROCUREMENT OF SUBSTITUTE GOODS OR\n",
      "        SERVICES; LOSS OF USE, DATA, OR PROFITS; OR BUSINESS INTERRUPTION) HOWEVER\n",
      "        CAUSED AND ON ANY THEORY OF LIABILITY, WHETHER IN CONTRACT, STRICT LIABILITY,\n",
      "        OR TORT (INCLUDING NEGLIGENCE OR OTHERWISE) ARISING IN ANY WAY OUT OF THE USE\n",
      "        OF THIS SOFTWARE, EVEN IF ADVISED OF THE POSSIBILITY OF SUCH DAMAGE.\n",
      "Location: /opt/conda/envs/anaconda-2024.02-py310/lib/python3.10/site-packages\n",
      "Requires: numpy, python-dateutil, pytz, tzdata\n",
      "Required-by: altair, bokeh, datashader, holoviews, hvplot, panel, seaborn, statsmodels, streamlit, xarray\n",
      "Note: you may need to restart the kernel to use updated packages.\n"
     ]
    }
   ],
   "source": [
    "pip show pandas"
   ]
  },
  {
   "cell_type": "code",
   "execution_count": 9,
   "id": "9daf680a-0557-443d-a644-7e5cea3c03ae",
   "metadata": {},
   "outputs": [],
   "source": [
    "df=Pandas.read_csv('WeatherData.csv')"
   ]
  },
  {
   "cell_type": "code",
   "execution_count": 10,
   "id": "5a7686df-5435-4101-adb4-19127384feb4",
   "metadata": {},
   "outputs": [
    {
     "name": "stdout",
     "output_type": "stream",
     "text": [
      "             Date/Time  Temp_C  Dew Point Temp_C  Rel Hum_%  Wind Speed_km/h  \\\n",
      "0        1/1/2012 0:00    -1.8              -3.9         86                4   \n",
      "1        1/1/2012 1:00    -1.8              -3.7         87                4   \n",
      "2        1/1/2012 2:00    -1.8              -3.4         89                7   \n",
      "3        1/1/2012 3:00    -1.5              -3.2         88                6   \n",
      "4        1/1/2012 4:00    -1.5              -3.3         88                7   \n",
      "...                ...     ...               ...        ...              ...   \n",
      "8779  12/31/2012 19:00     0.1              -2.7         81               30   \n",
      "8780  12/31/2012 20:00     0.2              -2.4         83               24   \n",
      "8781  12/31/2012 21:00    -0.5              -1.5         93               28   \n",
      "8782  12/31/2012 22:00    -0.2              -1.8         89               28   \n",
      "8783  12/31/2012 23:00     0.0              -2.1         86               30   \n",
      "\n",
      "      Visibility_km  Press_kPa               Weather  \n",
      "0               8.0     101.24                   Fog  \n",
      "1               8.0     101.24                   Fog  \n",
      "2               4.0     101.26  Freezing Drizzle,Fog  \n",
      "3               4.0     101.27  Freezing Drizzle,Fog  \n",
      "4               4.8     101.23                   Fog  \n",
      "...             ...        ...                   ...  \n",
      "8779            9.7     100.13                  Snow  \n",
      "8780            9.7     100.03                  Snow  \n",
      "8781            4.8      99.95                  Snow  \n",
      "8782            9.7      99.91                  Snow  \n",
      "8783           11.3      99.89                  Snow  \n",
      "\n",
      "[8784 rows x 8 columns]\n"
     ]
    }
   ],
   "source": [
    "print (df)"
   ]
  },
  {
   "cell_type": "code",
   "execution_count": 14,
   "id": "902bfd45-1418-44b8-87ee-8d2aa3d62554",
   "metadata": {},
   "outputs": [],
   "source": [
    "clear_weather_df = df[df['Weather'] == 'exactly clear']"
   ]
  },
  {
   "cell_type": "code",
   "execution_count": 15,
   "id": "f6ccfdb0-70a8-4e3f-ba68-17216b0bd283",
   "metadata": {},
   "outputs": [
    {
     "name": "stdout",
     "output_type": "stream",
     "text": [
      "Empty DataFrame\n",
      "Columns: [Date/Time, Temp_C, Dew Point Temp_C, Rel Hum_%, Wind Speed_km/h, Visibility_km, Press_kPa, Weather]\n",
      "Index: []\n"
     ]
    }
   ],
   "source": [
    "print(clear_weather_df)"
   ]
  },
  {
   "cell_type": "code",
   "execution_count": 16,
   "id": "9cdfb393-8f29-406d-9de8-776ad1a50826",
   "metadata": {},
   "outputs": [],
   "source": [
    "clear_weather_df = df[df['Weather'] == 'clear']"
   ]
  },
  {
   "cell_type": "code",
   "execution_count": 17,
   "id": "344984c8-fbcc-4b58-b3ae-6d73bfbf7d40",
   "metadata": {},
   "outputs": [
    {
     "name": "stdout",
     "output_type": "stream",
     "text": [
      "Empty DataFrame\n",
      "Columns: [Date/Time, Temp_C, Dew Point Temp_C, Rel Hum_%, Wind Speed_km/h, Visibility_km, Press_kPa, Weather]\n",
      "Index: []\n"
     ]
    }
   ],
   "source": [
    "print(clear_weather_df)"
   ]
  },
  {
   "cell_type": "code",
   "execution_count": 19,
   "id": "4fe8387b-45cc-4da5-9aa7-9b3b4fb4ff9a",
   "metadata": {},
   "outputs": [],
   "source": [
    "clear_weather_df = df[df['Weather'] == 'Clear']"
   ]
  },
  {
   "cell_type": "code",
   "execution_count": 20,
   "id": "f7ae2b4b-59a6-4a1d-a7a1-1708998fee9b",
   "metadata": {},
   "outputs": [
    {
     "name": "stdout",
     "output_type": "stream",
     "text": [
      "             Date/Time  Temp_C  Dew Point Temp_C  Rel Hum_%  Wind Speed_km/h  \\\n",
      "67      1/3/2012 19:00   -16.9             -24.8         50               24   \n",
      "114     1/5/2012 18:00    -7.1             -14.4         56               11   \n",
      "115     1/5/2012 19:00    -9.2             -15.4         61                7   \n",
      "116     1/5/2012 20:00    -9.8             -15.7         62                9   \n",
      "117     1/5/2012 21:00    -9.0             -14.8         63               13   \n",
      "...                ...     ...               ...        ...              ...   \n",
      "8646   12/26/2012 6:00   -13.4             -14.8         89                4   \n",
      "8698  12/28/2012 10:00    -6.1              -8.6         82               19   \n",
      "8713   12/29/2012 1:00   -11.9             -13.6         87               11   \n",
      "8714   12/29/2012 2:00   -11.8             -13.1         90               13   \n",
      "8756  12/30/2012 20:00   -13.8             -16.5         80               24   \n",
      "\n",
      "      Visibility_km  Press_kPa Weather  \n",
      "67             25.0     101.74   Clear  \n",
      "114            25.0     100.71   Clear  \n",
      "115            25.0     100.80   Clear  \n",
      "116            25.0     100.83   Clear  \n",
      "117            25.0     100.83   Clear  \n",
      "...             ...        ...     ...  \n",
      "8646           25.0     102.47   Clear  \n",
      "8698           24.1     101.27   Clear  \n",
      "8713           25.0     101.31   Clear  \n",
      "8714           25.0     101.33   Clear  \n",
      "8756           25.0     101.52   Clear  \n",
      "\n",
      "[1326 rows x 8 columns]\n"
     ]
    }
   ],
   "source": [
    "print(clear_weather_df)"
   ]
  },
  {
   "cell_type": "code",
   "execution_count": null,
   "id": "5841dc75-9d24-4066-aa77-52de05b2f20a",
   "metadata": {},
   "outputs": [],
   "source": [
    "#I have found 1326 records where the weather was clear"
   ]
  },
  {
   "cell_type": "code",
   "execution_count": 28,
   "id": "e6f1d4b8-0b24-412d-ad7d-6ad8a5a631db",
   "metadata": {},
   "outputs": [],
   "source": [
    "WindSpeed_df = df[df['Wind Speed_km/h'] == 4]"
   ]
  },
  {
   "cell_type": "code",
   "execution_count": 29,
   "id": "e7a80932-f7e3-439d-b5fa-28206dddb983",
   "metadata": {},
   "outputs": [
    {
     "name": "stdout",
     "output_type": "stream",
     "text": [
      "             Date/Time  Temp_C  Dew Point Temp_C  Rel Hum_%  Wind Speed_km/h  \\\n",
      "0        1/1/2012 0:00    -1.8              -3.9         86                4   \n",
      "1        1/1/2012 1:00    -1.8              -3.7         87                4   \n",
      "96       1/5/2012 0:00    -8.8             -11.7         79                4   \n",
      "101      1/5/2012 5:00    -7.0              -9.5         82                4   \n",
      "146      1/7/2012 2:00    -8.1             -11.1         79                4   \n",
      "...                ...     ...               ...        ...              ...   \n",
      "8768   12/31/2012 8:00    -8.6             -10.3         87                4   \n",
      "8769   12/31/2012 9:00    -8.1              -9.6         89                4   \n",
      "8770  12/31/2012 10:00    -7.4              -8.9         89                4   \n",
      "8772  12/31/2012 12:00    -5.8              -7.5         88                4   \n",
      "8773  12/31/2012 13:00    -4.6              -6.6         86                4   \n",
      "\n",
      "      Visibility_km  Press_kPa       Weather  \n",
      "0               8.0     101.24           Fog  \n",
      "1               8.0     101.24           Fog  \n",
      "96              9.7     100.32          Snow  \n",
      "101             4.0     100.19          Snow  \n",
      "146            19.3     100.15        Cloudy  \n",
      "...             ...        ...           ...  \n",
      "8768            3.2     101.14  Snow Showers  \n",
      "8769            2.4     101.09          Snow  \n",
      "8770            6.4     101.05      Snow,Fog  \n",
      "8772           12.9     100.78          Snow  \n",
      "8773           12.9     100.63          Snow  \n",
      "\n",
      "[474 rows x 8 columns]\n"
     ]
    }
   ],
   "source": [
    "print(WindSpeed_df)"
   ]
  },
  {
   "cell_type": "code",
   "execution_count": 39,
   "id": "b5ef05df-a767-4799-b47b-0f7edf2e0e83",
   "metadata": {},
   "outputs": [],
   "source": [
    "count_WindSpeed_df=WindSpeed_df.shape[0]"
   ]
  },
  {
   "cell_type": "code",
   "execution_count": 38,
   "id": "c9802d9b-eb80-4875-bfeb-3db7700bf4a6",
   "metadata": {},
   "outputs": [
    {
     "name": "stdout",
     "output_type": "stream",
     "text": [
      "             Date/Time  Temp_C  Dew Point Temp_C  Rel Hum_%  Wind Speed_km/h  \\\n",
      "0        1/1/2012 0:00    -1.8              -3.9         86                4   \n",
      "1        1/1/2012 1:00    -1.8              -3.7         87                4   \n",
      "96       1/5/2012 0:00    -8.8             -11.7         79                4   \n",
      "101      1/5/2012 5:00    -7.0              -9.5         82                4   \n",
      "146      1/7/2012 2:00    -8.1             -11.1         79                4   \n",
      "...                ...     ...               ...        ...              ...   \n",
      "8768   12/31/2012 8:00    -8.6             -10.3         87                4   \n",
      "8769   12/31/2012 9:00    -8.1              -9.6         89                4   \n",
      "8770  12/31/2012 10:00    -7.4              -8.9         89                4   \n",
      "8772  12/31/2012 12:00    -5.8              -7.5         88                4   \n",
      "8773  12/31/2012 13:00    -4.6              -6.6         86                4   \n",
      "\n",
      "      Visibility_km  Press_kPa       Weather  \n",
      "0               8.0     101.24           Fog  \n",
      "1               8.0     101.24           Fog  \n",
      "96              9.7     100.32          Snow  \n",
      "101             4.0     100.19          Snow  \n",
      "146            19.3     100.15        Cloudy  \n",
      "...             ...        ...           ...  \n",
      "8768            3.2     101.14  Snow Showers  \n",
      "8769            2.4     101.09          Snow  \n",
      "8770            6.4     101.05      Snow,Fog  \n",
      "8772           12.9     100.78          Snow  \n",
      "8773           12.9     100.63          Snow  \n",
      "\n",
      "[474 rows x 8 columns]\n"
     ]
    }
   ],
   "source": [
    "print(count_WindSpeed_df)"
   ]
  },
  {
   "cell_type": "code",
   "execution_count": null,
   "id": "515ff15a-8e28-4f91-889d-a4ff9dfbe1bb",
   "metadata": {},
   "outputs": [],
   "source": [
    "#I have found 474 entries where the WINDSPEED was 4km/hr exactly"
   ]
  },
  {
   "cell_type": "code",
   "execution_count": 40,
   "id": "71630945-e893-4e55-a6e4-3663513cfe1f",
   "metadata": {},
   "outputs": [],
   "source": [
    "anynull_dataset=df.isnull().values.any()"
   ]
  },
  {
   "cell_type": "code",
   "execution_count": 41,
   "id": "ab7d24dc-7e5f-4bd8-8025-82eae2ca176f",
   "metadata": {},
   "outputs": [
    {
     "name": "stdout",
     "output_type": "stream",
     "text": [
      "False\n"
     ]
    }
   ],
   "source": [
    "print(anynull_dataset)"
   ]
  },
  {
   "cell_type": "code",
   "execution_count": null,
   "id": "d26d47ce-1b9a-4def-abf4-37e9dd62dc14",
   "metadata": {},
   "outputs": [],
   "source": [
    "#I have found that there are no null values present in my dataset"
   ]
  },
  {
   "cell_type": "code",
   "execution_count": 42,
   "id": "1fb916ce-99ef-4ee2-90f8-091bb4fbeea6",
   "metadata": {},
   "outputs": [],
   "source": [
    "new_columnname={'Weather':'Weather_Condition'}"
   ]
  },
  {
   "cell_type": "code",
   "execution_count": 44,
   "id": "25fbae99-d354-43fa-8583-cc0872fccbfc",
   "metadata": {},
   "outputs": [],
   "source": [
    "df.rename(columns=new_columnname,inplace=True)"
   ]
  },
  {
   "cell_type": "code",
   "execution_count": 45,
   "id": "438105ad-1a87-46b6-8b2d-ead1aad863cf",
   "metadata": {},
   "outputs": [
    {
     "name": "stdout",
     "output_type": "stream",
     "text": [
      "<bound method DataFrame.rename of              Date/Time  Temp_C  Dew Point Temp_C  Rel Hum_%  Wind Speed_km/h  \\\n",
      "0        1/1/2012 0:00    -1.8              -3.9         86                4   \n",
      "1        1/1/2012 1:00    -1.8              -3.7         87                4   \n",
      "2        1/1/2012 2:00    -1.8              -3.4         89                7   \n",
      "3        1/1/2012 3:00    -1.5              -3.2         88                6   \n",
      "4        1/1/2012 4:00    -1.5              -3.3         88                7   \n",
      "...                ...     ...               ...        ...              ...   \n",
      "8779  12/31/2012 19:00     0.1              -2.7         81               30   \n",
      "8780  12/31/2012 20:00     0.2              -2.4         83               24   \n",
      "8781  12/31/2012 21:00    -0.5              -1.5         93               28   \n",
      "8782  12/31/2012 22:00    -0.2              -1.8         89               28   \n",
      "8783  12/31/2012 23:00     0.0              -2.1         86               30   \n",
      "\n",
      "      Visibility_km  Press_kPa     Weather_Condition  \n",
      "0               8.0     101.24                   Fog  \n",
      "1               8.0     101.24                   Fog  \n",
      "2               4.0     101.26  Freezing Drizzle,Fog  \n",
      "3               4.0     101.27  Freezing Drizzle,Fog  \n",
      "4               4.8     101.23                   Fog  \n",
      "...             ...        ...                   ...  \n",
      "8779            9.7     100.13                  Snow  \n",
      "8780            9.7     100.03                  Snow  \n",
      "8781            4.8      99.95                  Snow  \n",
      "8782            9.7      99.91                  Snow  \n",
      "8783           11.3      99.89                  Snow  \n",
      "\n",
      "[8784 rows x 8 columns]>\n"
     ]
    }
   ],
   "source": [
    "print(df.rename)"
   ]
  },
  {
   "cell_type": "code",
   "execution_count": null,
   "id": "40f13cc8-394a-4abc-a8ef-c1c478d5a04e",
   "metadata": {},
   "outputs": [],
   "source": [
    "#The column head has been successfully renamed"
   ]
  },
  {
   "cell_type": "code",
   "execution_count": 49,
   "id": "fb15f214-b356-4c76-8569-362c566ea1b1",
   "metadata": {},
   "outputs": [],
   "source": [
    "MeanVisibility=df['Visibility_km'].mean()"
   ]
  },
  {
   "cell_type": "code",
   "execution_count": 50,
   "id": "a8233cd3-30ad-4b01-b155-83a7b6b5c3f3",
   "metadata": {},
   "outputs": [
    {
     "name": "stdout",
     "output_type": "stream",
     "text": [
      "27.664446721311478\n"
     ]
    }
   ],
   "source": [
    "print(MeanVisibility)"
   ]
  },
  {
   "cell_type": "code",
   "execution_count": null,
   "id": "a8654d23-3c7f-42d5-acb7-89e93a14a366",
   "metadata": {},
   "outputs": [],
   "source": [
    "#27.664446721311478 is the mean visibility of my dataset"
   ]
  },
  {
   "cell_type": "code",
   "execution_count": 54,
   "id": "c80019fe-0bb4-4fd9-b41b-1dfd53589ab1",
   "metadata": {},
   "outputs": [],
   "source": [
    "FilteredRecords_df=df[(df['Wind Speed_km/h']>24)&(df['Visibility_km']==25)]"
   ]
  },
  {
   "cell_type": "code",
   "execution_count": 55,
   "id": "3321154c-09c8-41d0-a98f-83dbf8f24270",
   "metadata": {},
   "outputs": [],
   "source": [
    "count_FilteredRecords_df=FilteredRecords_df.shape[0]"
   ]
  },
  {
   "cell_type": "code",
   "execution_count": 56,
   "id": "0958c818-431c-4d2d-b831-eb7ed8584878",
   "metadata": {},
   "outputs": [
    {
     "name": "stdout",
     "output_type": "stream",
     "text": [
      "308\n"
     ]
    }
   ],
   "source": [
    "print(count_FilteredRecords_df)"
   ]
  },
  {
   "cell_type": "code",
   "execution_count": null,
   "id": "50706c89-0008-475c-bd0c-8add7e133e78",
   "metadata": {},
   "outputs": [],
   "source": [
    "#308 is the number of records where the wind speed is greater than 24 km/hr and visibility is equal to 25 km."
   ]
  },
  {
   "cell_type": "code",
   "execution_count": 82,
   "id": "9246ae87-cb18-4623-8f82-6a7a7a310d6b",
   "metadata": {},
   "outputs": [],
   "source": [
    "Mean_Weathercondition=df.groupby('Weather_Condition')"
   ]
  },
  {
   "cell_type": "code",
   "execution_count": 83,
   "id": "16ba32ef-e0ba-49e8-85ec-0ffb967477fd",
   "metadata": {},
   "outputs": [
    {
     "name": "stdout",
     "output_type": "stream",
     "text": [
      "<pandas.core.groupby.generic.DataFrameGroupBy object at 0x7f76246761d0>\n"
     ]
    }
   ],
   "source": [
    "print(Mean_Weathercondition)"
   ]
  },
  {
   "cell_type": "code",
   "execution_count": 3,
   "id": "d0f9f688-e103-4832-9069-a23b55b6d8bf",
   "metadata": {},
   "outputs": [],
   "source": [
    "import numpy as Numpy"
   ]
  },
  {
   "cell_type": "code",
   "execution_count": 4,
   "id": "5c8a3efa-4c7e-4887-a6dc-9668983379a5",
   "metadata": {},
   "outputs": [
    {
     "name": "stdout",
     "output_type": "stream",
     "text": [
      "Name: numpy\n",
      "Version: 1.26.4\n",
      "Summary: Fundamental package for array computing in Python\n",
      "Home-page: https://numpy.org\n",
      "Author: Travis E. Oliphant et al.\n",
      "Author-email: \n",
      "License: Copyright (c) 2005-2023, NumPy Developers.\n",
      "        All rights reserved.\n",
      "        \n",
      "        Redistribution and use in source and binary forms, with or without\n",
      "        modification, are permitted provided that the following conditions are\n",
      "        met:\n",
      "        \n",
      "            * Redistributions of source code must retain the above copyright\n",
      "               notice, this list of conditions and the following disclaimer.\n",
      "        \n",
      "            * Redistributions in binary form must reproduce the above\n",
      "               copyright notice, this list of conditions and the following\n",
      "               disclaimer in the documentation and/or other materials provided\n",
      "               with the distribution.\n",
      "        \n",
      "            * Neither the name of the NumPy Developers nor the names of any\n",
      "               contributors may be used to endorse or promote products derived\n",
      "               from this software without specific prior written permission.\n",
      "        \n",
      "        THIS SOFTWARE IS PROVIDED BY THE COPYRIGHT HOLDERS AND CONTRIBUTORS\n",
      "        \"AS IS\" AND ANY EXPRESS OR IMPLIED WARRANTIES, INCLUDING, BUT NOT\n",
      "        LIMITED TO, THE IMPLIED WARRANTIES OF MERCHANTABILITY AND FITNESS FOR\n",
      "        A PARTICULAR PURPOSE ARE DISCLAIMED. IN NO EVENT SHALL THE COPYRIGHT\n",
      "        OWNER OR CONTRIBUTORS BE LIABLE FOR ANY DIRECT, INDIRECT, INCIDENTAL,\n",
      "        SPECIAL, EXEMPLARY, OR CONSEQUENTIAL DAMAGES (INCLUDING, BUT NOT\n",
      "        LIMITED TO, PROCUREMENT OF SUBSTITUTE GOODS OR SERVICES; LOSS OF USE,\n",
      "        DATA, OR PROFITS; OR BUSINESS INTERRUPTION) HOWEVER CAUSED AND ON ANY\n",
      "        THEORY OF LIABILITY, WHETHER IN CONTRACT, STRICT LIABILITY, OR TORT\n",
      "        (INCLUDING NEGLIGENCE OR OTHERWISE) ARISING IN ANY WAY OUT OF THE USE\n",
      "        OF THIS SOFTWARE, EVEN IF ADVISED OF THE POSSIBILITY OF SUCH DAMAGE.\n",
      "Location: /opt/conda/envs/anaconda-2024.02-py310/lib/python3.10/site-packages\n",
      "Requires: \n",
      "Required-by: altair, astropy, bokeh, Bottleneck, contourpy, datashader, gensim, h5py, holoviews, hvplot, imagecodecs, imageio, imbalanced-learn, matplotlib, mkl-fft, mkl-random, numba, numexpr, pandas, patsy, pyarrow, pydeck, pyerfa, pywavelets, scikit-image, scikit-learn, scipy, seaborn, statsmodels, streamlit, tables, tifffile, xarray\n",
      "Note: you may need to restart the kernel to use updated packages.\n"
     ]
    }
   ],
   "source": [
    "pip show Numpy"
   ]
  },
  {
   "cell_type": "code",
   "execution_count": 9,
   "id": "da868026-c8ec-4c7d-8343-730c7b865e80",
   "metadata": {},
   "outputs": [
    {
     "name": "stdout",
     "output_type": "stream",
     "text": [
      "Name: pandas\n",
      "Version: 2.1.4\n",
      "Summary: Powerful data structures for data analysis, time series, and statistics\n",
      "Home-page: https://pandas.pydata.org\n",
      "Author: \n",
      "Author-email: The Pandas Development Team <pandas-dev@python.org>\n",
      "License: BSD 3-Clause License\n",
      "        \n",
      "        Copyright (c) 2008-2011, AQR Capital Management, LLC, Lambda Foundry, Inc. and PyData Development Team\n",
      "        All rights reserved.\n",
      "        \n",
      "        Copyright (c) 2011-2023, Open source contributors.\n",
      "        \n",
      "        Redistribution and use in source and binary forms, with or without\n",
      "        modification, are permitted provided that the following conditions are met:\n",
      "        \n",
      "        * Redistributions of source code must retain the above copyright notice, this\n",
      "          list of conditions and the following disclaimer.\n",
      "        \n",
      "        * Redistributions in binary form must reproduce the above copyright notice,\n",
      "          this list of conditions and the following disclaimer in the documentation\n",
      "          and/or other materials provided with the distribution.\n",
      "        \n",
      "        * Neither the name of the copyright holder nor the names of its\n",
      "          contributors may be used to endorse or promote products derived from\n",
      "          this software without specific prior written permission.\n",
      "        \n",
      "        THIS SOFTWARE IS PROVIDED BY THE COPYRIGHT HOLDERS AND CONTRIBUTORS \"AS IS\"\n",
      "        AND ANY EXPRESS OR IMPLIED WARRANTIES, INCLUDING, BUT NOT LIMITED TO, THE\n",
      "        IMPLIED WARRANTIES OF MERCHANTABILITY AND FITNESS FOR A PARTICULAR PURPOSE ARE\n",
      "        DISCLAIMED. IN NO EVENT SHALL THE COPYRIGHT HOLDER OR CONTRIBUTORS BE LIABLE\n",
      "        FOR ANY DIRECT, INDIRECT, INCIDENTAL, SPECIAL, EXEMPLARY, OR CONSEQUENTIAL\n",
      "        DAMAGES (INCLUDING, BUT NOT LIMITED TO, PROCUREMENT OF SUBSTITUTE GOODS OR\n",
      "        SERVICES; LOSS OF USE, DATA, OR PROFITS; OR BUSINESS INTERRUPTION) HOWEVER\n",
      "        CAUSED AND ON ANY THEORY OF LIABILITY, WHETHER IN CONTRACT, STRICT LIABILITY,\n",
      "        OR TORT (INCLUDING NEGLIGENCE OR OTHERWISE) ARISING IN ANY WAY OUT OF THE USE\n",
      "        OF THIS SOFTWARE, EVEN IF ADVISED OF THE POSSIBILITY OF SUCH DAMAGE.\n",
      "Location: /opt/conda/envs/anaconda-2024.02-py310/lib/python3.10/site-packages\n",
      "Requires: numpy, python-dateutil, pytz, tzdata\n",
      "Required-by: altair, bokeh, datashader, holoviews, hvplot, panel, seaborn, statsmodels, streamlit, xarray\n",
      "Note: you may need to restart the kernel to use updated packages.\n"
     ]
    }
   ],
   "source": [
    "pip show Pandas"
   ]
  },
  {
   "cell_type": "code",
   "execution_count": 13,
   "id": "8290b999-9302-4c30-907a-72abcf46aa6f",
   "metadata": {},
   "outputs": [],
   "source": [
    "import pandas as Pandas"
   ]
  },
  {
   "cell_type": "code",
   "execution_count": 14,
   "id": "5d89ef31-8156-40a9-8cb0-b2ac5a525088",
   "metadata": {},
   "outputs": [],
   "source": [
    "WeatherData=Pandas.read_csv('WeatherData.csv')"
   ]
  },
  {
   "cell_type": "code",
   "execution_count": 15,
   "id": "cbe16ef3-bda4-40e4-992e-be35c3d58f39",
   "metadata": {},
   "outputs": [
    {
     "name": "stdout",
     "output_type": "stream",
     "text": [
      "             Date/Time  Temp_C  Dew Point Temp_C  Rel Hum_%  Wind Speed_km/h  \\\n",
      "0        1/1/2012 0:00    -1.8              -3.9         86                4   \n",
      "1        1/1/2012 1:00    -1.8              -3.7         87                4   \n",
      "2        1/1/2012 2:00    -1.8              -3.4         89                7   \n",
      "3        1/1/2012 3:00    -1.5              -3.2         88                6   \n",
      "4        1/1/2012 4:00    -1.5              -3.3         88                7   \n",
      "...                ...     ...               ...        ...              ...   \n",
      "8779  12/31/2012 19:00     0.1              -2.7         81               30   \n",
      "8780  12/31/2012 20:00     0.2              -2.4         83               24   \n",
      "8781  12/31/2012 21:00    -0.5              -1.5         93               28   \n",
      "8782  12/31/2012 22:00    -0.2              -1.8         89               28   \n",
      "8783  12/31/2012 23:00     0.0              -2.1         86               30   \n",
      "\n",
      "      Visibility_km  Press_kPa               Weather  \n",
      "0               8.0     101.24                   Fog  \n",
      "1               8.0     101.24                   Fog  \n",
      "2               4.0     101.26  Freezing Drizzle,Fog  \n",
      "3               4.0     101.27  Freezing Drizzle,Fog  \n",
      "4               4.8     101.23                   Fog  \n",
      "...             ...        ...                   ...  \n",
      "8779            9.7     100.13                  Snow  \n",
      "8780            9.7     100.03                  Snow  \n",
      "8781            4.8      99.95                  Snow  \n",
      "8782            9.7      99.91                  Snow  \n",
      "8783           11.3      99.89                  Snow  \n",
      "\n",
      "[8784 rows x 8 columns]\n"
     ]
    }
   ],
   "source": [
    "print(WeatherData)"
   ]
  },
  {
   "cell_type": "code",
   "execution_count": 16,
   "id": "9b5558b4-15fd-4437-bea4-cb3d98986644",
   "metadata": {},
   "outputs": [
    {
     "data": {
      "text/plain": [
       "Temp_C               8.798144\n",
       "Dew Point Temp_C     2.555294\n",
       "Rel Hum_%           67.431694\n",
       "Wind Speed_km/h     14.945469\n",
       "Visibility_km       27.664447\n",
       "dtype: float64"
      ]
     },
     "execution_count": 16,
     "metadata": {},
     "output_type": "execute_result"
    }
   ],
   "source": [
    "WeatherData.iloc[:,1:6].apply(Numpy.mean)"
   ]
  },
  {
   "cell_type": "code",
   "execution_count": 17,
   "id": "b1c1270e-aa23-4c22-ba8b-d2500d3bdab8",
   "metadata": {},
   "outputs": [],
   "source": [
    "#The above is the answer for question 7"
   ]
  },
  {
   "cell_type": "code",
   "execution_count": 26,
   "id": "cf7b9158-8ea3-4049-b527-87447e0ba6b4",
   "metadata": {},
   "outputs": [],
   "source": [
    "df=Pandas.read_csv('WeatherData.csv')"
   ]
  },
  {
   "cell_type": "code",
   "execution_count": 28,
   "id": "8cb6fad5-3ce8-46a3-9433-79d85d1e0a42",
   "metadata": {},
   "outputs": [],
   "source": [
    "Instance8_df=df[(df['Weather']=='Clear')&(df['Rel Hum_%']>50)|(df['Visibility_km']>40)]"
   ]
  },
  {
   "cell_type": "code",
   "execution_count": 29,
   "id": "dd485af8-a984-43bb-913d-a2e28d4b918a",
   "metadata": {},
   "outputs": [
    {
     "name": "stdout",
     "output_type": "stream",
     "text": [
      "             Date/Time  Temp_C  Dew Point Temp_C  Rel Hum_%  Wind Speed_km/h  \\\n",
      "106     1/5/2012 10:00    -6.0             -10.0         73               17   \n",
      "107     1/5/2012 11:00    -5.6             -10.2         70               22   \n",
      "108     1/5/2012 12:00    -4.7              -9.6         69               20   \n",
      "109     1/5/2012 13:00    -4.4              -9.7         66               26   \n",
      "110     1/5/2012 14:00    -5.1             -10.7         65               22   \n",
      "...                ...     ...               ...        ...              ...   \n",
      "8749  12/30/2012 13:00   -12.4             -16.2         73               37   \n",
      "8750  12/30/2012 14:00   -11.8             -16.1         70               37   \n",
      "8751  12/30/2012 15:00   -11.3             -15.6         70               32   \n",
      "8752  12/30/2012 16:00   -11.4             -15.5         72               26   \n",
      "8756  12/30/2012 20:00   -13.8             -16.5         80               24   \n",
      "\n",
      "      Visibility_km  Press_kPa        Weather  \n",
      "106            48.3     100.45   Mainly Clear  \n",
      "107            48.3     100.41   Mainly Clear  \n",
      "108            48.3     100.38   Mainly Clear  \n",
      "109            48.3     100.40   Mainly Clear  \n",
      "110            48.3     100.46   Mainly Clear  \n",
      "...             ...        ...            ...  \n",
      "8749           48.3     100.92  Mostly Cloudy  \n",
      "8750           48.3     100.96   Mainly Clear  \n",
      "8751           48.3     101.05   Mainly Clear  \n",
      "8752           48.3     101.15   Mainly Clear  \n",
      "8756           25.0     101.52          Clear  \n",
      "\n",
      "[2921 rows x 8 columns]\n"
     ]
    }
   ],
   "source": [
    "print(Instance8_df)"
   ]
  },
  {
   "cell_type": "code",
   "execution_count": 30,
   "id": "e5b633e4-b82f-4656-ba67-13aa69d1611b",
   "metadata": {},
   "outputs": [],
   "source": [
    "#The above is the answer to question 8"
   ]
  },
  {
   "cell_type": "code",
   "execution_count": 31,
   "id": "f1e3f9e7-d948-4153-b994-9e971716793b",
   "metadata": {},
   "outputs": [],
   "source": [
    "snow_conditions= df[df['Weather'].str.contains('Snow', case=False, na=False)]"
   ]
  },
  {
   "cell_type": "code",
   "execution_count": 32,
   "id": "f269b036-91ea-4896-9d6b-420d8a80b6bd",
   "metadata": {},
   "outputs": [
    {
     "name": "stdout",
     "output_type": "stream",
     "text": [
      "             Date/Time  Temp_C  Dew Point Temp_C  Rel Hum_%  Wind Speed_km/h  \\\n",
      "41      1/2/2012 17:00    -2.1              -9.5         57               22   \n",
      "44      1/2/2012 20:00    -5.6             -13.4         54               24   \n",
      "45      1/2/2012 21:00    -5.8             -12.8         58               26   \n",
      "47      1/2/2012 23:00    -7.4             -14.1         59               17   \n",
      "48       1/3/2012 0:00    -9.0             -16.0         57               28   \n",
      "...                ...     ...               ...        ...              ...   \n",
      "8779  12/31/2012 19:00     0.1              -2.7         81               30   \n",
      "8780  12/31/2012 20:00     0.2              -2.4         83               24   \n",
      "8781  12/31/2012 21:00    -0.5              -1.5         93               28   \n",
      "8782  12/31/2012 22:00    -0.2              -1.8         89               28   \n",
      "8783  12/31/2012 23:00     0.0              -2.1         86               30   \n",
      "\n",
      "      Visibility_km  Press_kPa       Weather  \n",
      "41             25.0      99.66  Snow Showers  \n",
      "44             25.0     100.07  Snow Showers  \n",
      "45             25.0     100.15  Snow Showers  \n",
      "47             19.3     100.27  Snow Showers  \n",
      "48             25.0     100.35  Snow Showers  \n",
      "...             ...        ...           ...  \n",
      "8779            9.7     100.13          Snow  \n",
      "8780            9.7     100.03          Snow  \n",
      "8781            4.8      99.95          Snow  \n",
      "8782            9.7      99.91          Snow  \n",
      "8783           11.3      99.89          Snow  \n",
      "\n",
      "[583 rows x 8 columns]\n"
     ]
    }
   ],
   "source": [
    "print(snow_conditions)"
   ]
  },
  {
   "cell_type": "code",
   "execution_count": null,
   "id": "9145eae6-5297-4c11-8aec-3aaa8eea0fb2",
   "metadata": {},
   "outputs": [],
   "source": []
  }
 ],
 "metadata": {
  "kernelspec": {
   "display_name": "anaconda-2024.02-py310",
   "language": "python",
   "name": "conda-env-anaconda-2024.02-py310-py"
  },
  "language_info": {
   "codemirror_mode": {
    "name": "ipython",
    "version": 3
   },
   "file_extension": ".py",
   "mimetype": "text/x-python",
   "name": "python",
   "nbconvert_exporter": "python",
   "pygments_lexer": "ipython3",
   "version": "3.10.14"
  }
 },
 "nbformat": 4,
 "nbformat_minor": 5
}
